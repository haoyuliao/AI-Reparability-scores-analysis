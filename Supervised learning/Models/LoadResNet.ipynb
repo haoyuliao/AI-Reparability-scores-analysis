{
 "cells": [
  {
   "cell_type": "code",
   "execution_count": 1,
   "id": "portable-wichita",
   "metadata": {},
   "outputs": [],
   "source": [
    "%matplotlib inline\n",
    "#Reference from https://pytorch.org/"
   ]
  },
  {
   "cell_type": "code",
   "execution_count": 2,
   "id": "manufactured-hungary",
   "metadata": {},
   "outputs": [
    {
     "data": {
      "text/plain": [
       "<contextlib.ExitStack at 0x1c8e18bce20>"
      ]
     },
     "execution_count": 2,
     "metadata": {},
     "output_type": "execute_result"
    }
   ],
   "source": [
    "from __future__ import print_function, division\n",
    "\n",
    "import pandas as pd\n",
    "from torch.utils.data import TensorDataset, DataLoader\n",
    "import torch\n",
    "import torch.nn as nn\n",
    "import torch.optim as optim\n",
    "from torch.optim import lr_scheduler\n",
    "import numpy as np\n",
    "import torchvision\n",
    "from torchvision import datasets, models, transforms\n",
    "import matplotlib.pyplot as plt\n",
    "import time\n",
    "import os\n",
    "import copy\n",
    "\n",
    "plt.ion()   # interactive mode"
   ]
  },
  {
   "cell_type": "code",
   "execution_count": 3,
   "id": "fluid-strike",
   "metadata": {},
   "outputs": [
    {
     "name": "stdout",
     "output_type": "stream",
     "text": [
      "{'test': <torch.utils.data.dataloader.DataLoader object at 0x000001C8ED712E20>}\n",
      "['0', '1', '2']\n",
      "3016\n",
      "93\n",
      "98\n"
     ]
    }
   ],
   "source": [
    "# Data augmentation and normalization for training\n",
    "# Just normalization for validation\n",
    "data_transforms = {\n",
    "    'train': transforms.Compose([\n",
    "        #transforms.RandomResizedCrop(224),\n",
    "        transforms.Resize([224, 224]),\n",
    "        transforms.RandomHorizontalFlip(),\n",
    "        transforms.RandomVerticalFlip(),\n",
    "        transforms.RandomRotation(180),\n",
    "        transforms.ToTensor(),\n",
    "        transforms.Normalize([0.485, 0.456, 0.406], [0.229, 0.224, 0.225])\n",
    "    ]),\n",
    "    'test': transforms.Compose([\n",
    "        transforms.Resize([224, 224]),\n",
    "        #transforms.Resize(256),\n",
    "        #transforms.CenterCrop(224),\n",
    "        transforms.ToTensor(),\n",
    "        transforms.Normalize([0.485, 0.456, 0.406], [0.229, 0.224, 0.225])\n",
    "    ]),\n",
    "}\n",
    "\n",
    "data_dir = '../AddMoreData061823/Class3/TTV'\n",
    "l = []\n",
    "l.append(datasets.ImageFolder(os.path.join(data_dir, 'train'), data_transforms['train']))\n",
    "l.append(datasets.ImageFolder(os.path.join(data_dir, 'train'), data_transforms['train']))\n",
    "l.append(datasets.ImageFolder(os.path.join(data_dir, 'train'), data_transforms['train']))\n",
    "l.append(datasets.ImageFolder(os.path.join(data_dir, 'train'), data_transforms['train']))\n",
    "#l.append(datasets.ImageFolder(os.path.join(data_dir, 'test'), data_transforms['test']))\n",
    "image_datasetss = torch.utils.data.ConcatDataset(l)\n",
    "image_datasets = {}\n",
    "image_datasets['train'] = image_datasetss\n",
    "image_datasets['test'] = datasets.ImageFolder(os.path.join(data_dir, 'test'), data_transforms['test'])\n",
    "image_datasets['val'] = datasets.ImageFolder(os.path.join(data_dir, 'val'), data_transforms['test'])\n",
    "testfileNames = [x[0] for x in image_datasets['test'].imgs]\n",
    "\n",
    "\n",
    "\n",
    "dataloaders = {x: torch.utils.data.DataLoader(image_datasets[x], batch_size=5,\n",
    "                                             shuffle=False, num_workers=4)\n",
    "              for x in ['test']}\n",
    "\n",
    "\n",
    "#dataloaders['testfileNames'] = torch.utils.data.DataLoader(testfileNames, batch_size=5,\n",
    "                                             #shuffle=False, num_workers=4)\n",
    "\n",
    "print(dataloaders)\n",
    "\n",
    "dataset_sizes = {x: len(image_datasets[x]) for x in ['train', 'test', 'val']}\n",
    "class_names = image_datasets['test'].classes\n",
    "print(class_names)\n",
    "device = torch.device(\"cuda:0\" if torch.cuda.is_available() else \"cpu\")\n",
    "\n",
    "print(len( image_datasets['train']))\n",
    "print(len( image_datasets['val']))\n",
    "print(len( image_datasets['test']))\n"
   ]
  },
  {
   "cell_type": "code",
   "execution_count": 10,
   "id": "careful-brain",
   "metadata": {},
   "outputs": [
    {
     "name": "stdout",
     "output_type": "stream",
     "text": [
      "Number of parameters: 87576714\n"
     ]
    }
   ],
   "source": [
    "#model_ft = models.resnet50(pretrained=True) #load googlenet.\n",
    "#model_ft = models.googlenet(pretrained=True) #load googlenet.\n",
    "#num_ftrs = model_ft.fc.in_features\n",
    "#model_ft.fc = nn.Linear(num_ftrs, 3)\n",
    "\n",
    "#model_ft = models.vgg16(pretrained=True) #load googlenet.\n",
    "#model_ft.classifier[-1] = nn.Linear(4096, 3)\n",
    "\n",
    "model_ft = models.convnext_base(pretrained=True) #load googlenet.\n",
    "model_ft.classifier[-1] = nn.Linear(1024, 10)\n",
    "\n",
    "\n",
    "# Here the size of each output sample is set to 2.\n",
    "# Alternatively, it can be generalized to nn.Linear(num_ftrs, len(class_names)).\n",
    "\n",
    "\n",
    "model_ft = model_ft.to(device)\n",
    "\n",
    "criterion = nn.CrossEntropyLoss()\n",
    "\n",
    "# Observe that all parameters are being optimized\n",
    "optimizer_ft = optim.SGD(model_ft.parameters(), lr=0.001, momentum=0.9)\n",
    "\n",
    "# Decay LR by a factor of 0.1 every 7 epochs\n",
    "exp_lr_scheduler = lr_scheduler.StepLR(optimizer_ft, step_size=7, gamma=0.1)\n",
    "\n",
    "ep = 100\n",
    "#PATH = './trained models/ResNet-TTVClass3-BestEP%s.pth' %(ep)\n",
    "\n",
    "PATH = './trained models/convnext_base-TTVClass3-BestEP100.pth'\n",
    "model_ft.load_state_dict(torch.load(PATH))\n",
    "model_ft.eval()\n",
    "\n",
    "total_params = sum(p.numel() for p in model_ft.parameters())\n",
    "print(f\"Number of parameters: {total_params}\")"
   ]
  },
  {
   "cell_type": "code",
   "execution_count": 11,
   "id": "ordinary-boulder",
   "metadata": {},
   "outputs": [
    {
     "name": "stdout",
     "output_type": "stream",
     "text": [
      "Accuracy of the network on the 98 test images: 82 %\n",
      "tensor([[ 9.,  5.,  0.],\n",
      "        [ 3., 63.,  3.],\n",
      "        [ 1.,  5.,  9.]])\n",
      "tensor([[0.6429, 0.3571, 0.0000],\n",
      "        [0.0435, 0.9130, 0.0435],\n",
      "        [0.0667, 0.3333, 0.6000]])\n"
     ]
    }
   ],
   "source": [
    "correct = 0\n",
    "total = 0\n",
    "nb_classes = 3\n",
    "confusion_matrix = torch.zeros(nb_classes, nb_classes)\n",
    "\n",
    "results = {}\n",
    "results['name'], results['act.'], results['pred.'] = [], [], []\n",
    "oo = 0\n",
    "with torch.no_grad():\n",
    "    for data in dataloaders['test']:\n",
    "        #print(data)\n",
    "        images, labels = data[0].cuda(), data[1].cuda()\n",
    "        outputs = model_ft(images)\n",
    "        predicted = torch.round(outputs)\n",
    "        _, predicted = torch.max(outputs, 1)\n",
    "\n",
    "        total += labels.size(0)\n",
    "        correct += (predicted == labels).sum().item()\n",
    "        for t, p in zip(labels.view(-1), predicted.view(-1)):\n",
    "                #print(labels, predicted )\n",
    "                #print(t.long(), p.long())\n",
    "                confusion_matrix[t.long(), p.long()] += 1\n",
    "                results['name'].append(testfileNames[oo])\n",
    "                results['act.'].append(torch.Tensor.cpu(t.long()))\n",
    "                results['pred.'].append(torch.Tensor.cpu(p.long()))\n",
    "                oo+=1\n",
    "        #break\n",
    "        \n",
    "\n",
    "print('Accuracy of the network on the %s test images: %d %%' % (total,\n",
    "    100 * correct / total))\n",
    "\n",
    "print(confusion_matrix)\n",
    "#print(confusion_matrix/(total/2)) #Normalizing\n",
    "b= torch.sum(confusion_matrix, dim=1)\n",
    "print(confusion_matrix/torch.reshape(b, (-1, 1))) #Normalizing\n",
    "\n",
    "tr = pd.DataFrame (results)\n",
    "tr.to_excel('results.xlsx', index=False)"
   ]
  },
  {
   "cell_type": "code",
   "execution_count": 6,
   "id": "complicated-insulation",
   "metadata": {},
   "outputs": [
    {
     "name": "stdout",
     "output_type": "stream",
     "text": [
      "Actual label: 0\n",
      "predicted: 0 with 1.0 probabilities\n",
      "predicted: 1 with 0.0 probabilities\n",
      "predicted: 2 with 0.0 probabilities\n"
     ]
    },
    {
     "data": {
      "image/png": "[encoded data removed]",
      "text/plain": [
       "<Figure size 432x288 with 1 Axes>"
      ]
     },
     "metadata": {
      "needs_background": "light"
     },
     "output_type": "display_data"
    },
    {
     "name": "stdout",
     "output_type": "stream",
     "text": [
      "Actual label: 0\n",
      "predicted: 0 with 1.0 probabilities\n",
      "predicted: 1 with 0.0 probabilities\n",
      "predicted: 2 with 0.0 probabilities\n"
     ]
    },
    {
     "data": {
      "image/png": "[encoded data removed]",
      "text/plain": [
       "<Figure size 432x288 with 1 Axes>"
      ]
     },
     "metadata": {
      "needs_background": "light"
     },
     "output_type": "display_data"
    },
    {
     "name": "stdout",
     "output_type": "stream",
     "text": [
      "Actual label: 0\n",
      "predicted: 0 with 0.3405 probabilities\n",
      "predicted: 1 with 0.6595 probabilities\n",
      "predicted: 2 with 0.0 probabilities\n"
     ]
    },
    {
     "data": {
      "image/png": "[encoded data removed]",
      "text/plain": [
       "<Figure size 432x288 with 1 Axes>"
      ]
     },
     "metadata": {
      "needs_background": "light"
     },
     "output_type": "display_data"
    },
    {
     "name": "stdout",
     "output_type": "stream",
     "text": [
      "Actual label: 0\n",
      "predicted: 0 with 0.9887 probabilities\n",
      "predicted: 1 with 0.0113 probabilities\n",
      "predicted: 2 with 0.0 probabilities\n"
     ]
    },
    {
     "data": {
      "image/png": "[encoded data removed]",
      "text/plain": [
       "<Figure size 432x288 with 1 Axes>"
      ]
     },
     "metadata": {
      "needs_background": "light"
     },
     "output_type": "display_data"
    },
    {
     "name": "stdout",
     "output_type": "stream",
     "text": [
      "Actual label: 0\n",
      "predicted: 0 with 0.0004 probabilities\n",
      "predicted: 1 with 0.9914 probabilities\n",
      "predicted: 2 with 0.0083 probabilities\n"
     ]
    },
    {
     "data": {
      "image/png": "[encoded data removed]",
      "text/plain": [
       "<Figure size 432x288 with 1 Axes>"
      ]
     },
     "metadata": {
      "needs_background": "light"
     },
     "output_type": "display_data"
    },
    {
     "name": "stdout",
     "output_type": "stream",
     "text": [
      "Actual label: 0\n",
      "predicted: 0 with 0.1263 probabilities\n",
      "predicted: 1 with 0.8737 probabilities\n",
      "predicted: 2 with 0.0 probabilities\n"
     ]
    },
    {
     "data": {
      "image/png": "[encoded data removed]",
      "text/plain": [
       "<Figure size 432x288 with 1 Axes>"
      ]
     },
     "metadata": {
      "needs_background": "light"
     },
     "output_type": "display_data"
    },
    {
     "name": "stdout",
     "output_type": "stream",
     "text": [
      "Actual label: 0\n",
      "predicted: 0 with 0.6205 probabilities\n",
      "predicted: 1 with 0.3791 probabilities\n",
      "predicted: 2 with 0.0004 probabilities\n"
     ]
    },
    {
     "data": {
      "image/png": "[encoded data removed]",
      "text/plain": [
       "<Figure size 432x288 with 1 Axes>"
      ]
     },
     "metadata": {
      "needs_background": "light"
     },
     "output_type": "display_data"
    },
    {
     "name": "stdout",
     "output_type": "stream",
     "text": [
      "Actual label: 0\n",
      "predicted: 0 with 0.9429 probabilities\n",
      "predicted: 1 with 0.0571 probabilities\n",
      "predicted: 2 with 0.0 probabilities\n"
     ]
    },
    {
     "data": {
      "image/png": "[encoded data removed]",
      "text/plain": [
       "<Figure size 432x288 with 1 Axes>"
      ]
     },
     "metadata": {
      "needs_background": "light"
     },
     "output_type": "display_data"
    },
    {
     "name": "stdout",
     "output_type": "stream",
     "text": [
      "Actual label: 0\n",
      "predicted: 0 with 1.0 probabilities\n",
      "predicted: 1 with 0.0 probabilities\n",
      "predicted: 2 with 0.0 probabilities\n"
     ]
    },
    {
     "data": {
      "image/png": "[encoded data removed]",
      "text/plain": [
       "<Figure size 432x288 with 1 Axes>"
      ]
     },
     "metadata": {
      "needs_background": "light"
     },
     "output_type": "display_data"
    },
    {
     "name": "stdout",
     "output_type": "stream",
     "text": [
      "Actual label: 0\n",
      "predicted: 0 with 0.886 probabilities\n",
      "predicted: 1 with 0.113 probabilities\n",
      "predicted: 2 with 0.001 probabilities\n"
     ]
    },
    {
     "data": {
      "image/png": "[encoded data removed]",
      "text/plain": [
       "<Figure size 432x288 with 1 Axes>"
      ]
     },
     "metadata": {
      "needs_background": "light"
     },
     "output_type": "display_data"
    },
    {
     "name": "stdout",
     "output_type": "stream",
     "text": [
      "Actual label: 0\n",
      "predicted: 0 with 0.6316 probabilities\n",
      "predicted: 1 with 0.3133 probabilities\n",
      "predicted: 2 with 0.0551 probabilities\n"
     ]
    },
    {
     "data": {
      "image/png": "[encoded data removed]",
      "text/plain": [
       "<Figure size 432x288 with 1 Axes>"
      ]
     },
     "metadata": {
      "needs_background": "light"
     },
     "output_type": "display_data"
    },
    {
     "name": "stdout",
     "output_type": "stream",
     "text": [
      "Actual label: 0\n",
      "predicted: 0 with 0.9639 probabilities\n",
      "predicted: 1 with 0.0361 probabilities\n",
      "predicted: 2 with 0.0 probabilities\n"
     ]
    },
    {
     "data": {
      "image/png": "[encoded data removed]",
      "text/plain": [
       "<Figure size 432x288 with 1 Axes>"
      ]
     },
     "metadata": {
      "needs_background": "light"
     },
     "output_type": "display_data"
    },
    {
     "name": "stdout",
     "output_type": "stream",
     "text": [
      "Actual label: 0\n",
      "predicted: 0 with 0.9999 probabilities\n",
      "predicted: 1 with 1e-04 probabilities\n",
      "predicted: 2 with 0.0 probabilities\n"
     ]
    },
    {
     "data": {
      "image/png": "[encoded data removed]",
      "text/plain": [
       "<Figure size 432x288 with 1 Axes>"
      ]
     },
     "metadata": {
      "needs_background": "light"
     },
     "output_type": "display_data"
    },
    {
     "name": "stdout",
     "output_type": "stream",
     "text": [
      "Actual label: 0\n",
      "predicted: 0 with 1.0 probabilities\n",
      "predicted: 1 with 0.0 probabilities\n",
      "predicted: 2 with 0.0 probabilities\n"
     ]
    },
    {
     "data": {
      "image/png": "[encoded data removed]",
      "text/plain": [
       "<Figure size 432x288 with 1 Axes>"
      ]
     },
     "metadata": {
      "needs_background": "light"
     },
     "output_type": "display_data"
    },
    {
     "name": "stdout",
     "output_type": "stream",
     "text": [
      "Actual label: 1\n",
      "predicted: 0 with 0.0 probabilities\n",
      "predicted: 1 with 0.4974 probabilities\n",
      "predicted: 2 with 0.5025 probabilities\n"
     ]
    },
    {
     "data": {
      "image/png": "[encoded data removed]",
      "text/plain": [
       "<Figure size 432x288 with 1 Axes>"
      ]
     },
     "metadata": {
      "needs_background": "light"
     },
     "output_type": "display_data"
    },
    {
     "name": "stdout",
     "output_type": "stream",
     "text": [
      "Actual label: 1\n",
      "predicted: 0 with 0.0004 probabilities\n",
      "predicted: 1 with 0.9996 probabilities\n",
      "predicted: 2 with 0.0 probabilities\n"
     ]
    },
    {
     "data": {
      "image/png": "[encoded data removed]",
      "text/plain": [
       "<Figure size 432x288 with 1 Axes>"
      ]
     },
     "metadata": {
      "needs_background": "light"
     },
     "output_type": "display_data"
    },
    {
     "name": "stdout",
     "output_type": "stream",
     "text": [
      "Actual label: 1\n",
      "predicted: 0 with 0.3975 probabilities\n",
      "predicted: 1 with 0.6023 probabilities\n",
      "predicted: 2 with 0.0003 probabilities\n"
     ]
    },
    {
     "data": {
      "image/png": "[encoded data removed]",
      "text/plain": [
       "<Figure size 432x288 with 1 Axes>"
      ]
     },
     "metadata": {
      "needs_background": "light"
     },
     "output_type": "display_data"
    },
    {
     "name": "stdout",
     "output_type": "stream",
     "text": [
      "Actual label: 1\n",
      "predicted: 0 with 0.0 probabilities\n",
      "predicted: 1 with 1.0 probabilities\n",
      "predicted: 2 with 0.0 probabilities\n"
     ]
    },
    {
     "data": {
      "image/png": "[encoded data removed]",
      "text/plain": [
       "<Figure size 432x288 with 1 Axes>"
      ]
     },
     "metadata": {
      "needs_background": "light"
     },
     "output_type": "display_data"
    },
    {
     "name": "stdout",
     "output_type": "stream",
     "text": [
      "Actual label: 1\n",
      "predicted: 0 with 0.0005 probabilities\n",
      "predicted: 1 with 0.9957 probabilities\n",
      "predicted: 2 with 0.0037 probabilities\n"
     ]
    },
    {
     "data": {
      "image/png": "[encoded data removed]",
      "text/plain": [
       "<Figure size 432x288 with 1 Axes>"
      ]
     },
     "metadata": {
      "needs_background": "light"
     },
     "output_type": "display_data"
    },
    {
     "name": "stdout",
     "output_type": "stream",
     "text": [
      "Actual label: 1\n",
      "predicted: 0 with 0.0004 probabilities\n",
      "predicted: 1 with 0.9994 probabilities\n",
      "predicted: 2 with 0.0002 probabilities\n"
     ]
    },
    {
     "data": {
      "image/png": "[encoded data removed]",
      "text/plain": [
       "<Figure size 432x288 with 1 Axes>"
      ]
     },
     "metadata": {
      "needs_background": "light"
     },
     "output_type": "display_data"
    },
    {
     "name": "stdout",
     "output_type": "stream",
     "text": [
      "Actual label: 1\n",
      "predicted: 0 with 0.0 probabilities\n",
      "predicted: 1 with 0.9998 probabilities\n",
      "predicted: 2 with 1e-04 probabilities\n"
     ]
    },
    {
     "data": {
      "image/png": "[encoded data removed]",
      "text/plain": [
       "<Figure size 432x288 with 1 Axes>"
      ]
     },
     "metadata": {
      "needs_background": "light"
     },
     "output_type": "display_data"
    },
    {
     "name": "stdout",
     "output_type": "stream",
     "text": [
      "Actual label: 1\n",
      "predicted: 0 with 0.0 probabilities\n",
      "predicted: 1 with 1.0 probabilities\n",
      "predicted: 2 with 0.0 probabilities\n"
     ]
    },
    {
     "data": {
      "image/png": "[encoded data removed]",
      "text/plain": [
       "<Figure size 432x288 with 1 Axes>"
      ]
     },
     "metadata": {
      "needs_background": "light"
     },
     "output_type": "display_data"
    },
    {
     "name": "stdout",
     "output_type": "stream",
     "text": [
      "Actual label: 1\n",
      "predicted: 0 with 0.0 probabilities\n",
      "predicted: 1 with 1.0 probabilities\n",
      "predicted: 2 with 0.0 probabilities\n"
     ]
    },
    {
     "data": {
      "image/png": "[encoded data removed]",
      "text/plain": [
       "<Figure size 432x288 with 1 Axes>"
      ]
     },
     "metadata": {
      "needs_background": "light"
     },
     "output_type": "display_data"
    },
    {
     "name": "stdout",
     "output_type": "stream",
     "text": [
      "Actual label: 1\n",
      "predicted: 0 with 0.0013 probabilities\n",
      "predicted: 1 with 0.9987 probabilities\n",
      "predicted: 2 with 0.0 probabilities\n"
     ]
    },
    {
     "data": {
      "image/png": "[encoded data removed]",
      "text/plain": [
       "<Figure size 432x288 with 1 Axes>"
      ]
     },
     "metadata": {
      "needs_background": "light"
     },
     "output_type": "display_data"
    },
    {
     "name": "stdout",
     "output_type": "stream",
     "text": [
      "Actual label: 1\n",
      "predicted: 0 with 0.0 probabilities\n",
      "predicted: 1 with 0.9989 probabilities\n",
      "predicted: 2 with 0.0011 probabilities\n"
     ]
    },
    {
     "data": {
      "image/png": "[encoded data removed]",
      "text/plain": [
       "<Figure size 432x288 with 1 Axes>"
      ]
     },
     "metadata": {
      "needs_background": "light"
     },
     "output_type": "display_data"
    },
    {
     "name": "stdout",
     "output_type": "stream",
     "text": [
      "Actual label: 1\n",
      "predicted: 0 with 0.0354 probabilities\n",
      "predicted: 1 with 0.9335 probabilities\n",
      "predicted: 2 with 0.0312 probabilities\n"
     ]
    },
    {
     "data": {
      "image/png": "[encoded data removed]",
      "text/plain": [
       "<Figure size 432x288 with 1 Axes>"
      ]
     },
     "metadata": {
      "needs_background": "light"
     },
     "output_type": "display_data"
    },
    {
     "name": "stdout",
     "output_type": "stream",
     "text": [
      "Actual label: 1\n",
      "predicted: 0 with 0.0 probabilities\n",
      "predicted: 1 with 0.9999 probabilities\n",
      "predicted: 2 with 1e-04 probabilities\n"
     ]
    },
    {
     "data": {
      "image/png": "[encoded data removed]",
      "text/plain": [
       "<Figure size 432x288 with 1 Axes>"
      ]
     },
     "metadata": {
      "needs_background": "light"
     },
     "output_type": "display_data"
    },
    {
     "name": "stdout",
     "output_type": "stream",
     "text": [
      "Actual label: 1\n",
      "predicted: 0 with 0.0 probabilities\n",
      "predicted: 1 with 1.0 probabilities\n",
      "predicted: 2 with 0.0 probabilities\n"
     ]
    },
    {
     "data": {
      "image/png": "[encoded data removed]",
      "text/plain": [
       "<Figure size 432x288 with 1 Axes>"
      ]
     },
     "metadata": {
      "needs_background": "light"
     },
     "output_type": "display_data"
    },
    {
     "name": "stdout",
     "output_type": "stream",
     "text": [
      "Actual label: 1\n",
      "predicted: 0 with 0.0 probabilities\n",
      "predicted: 1 with 0.9999 probabilities\n",
      "predicted: 2 with 0.0 probabilities\n"
     ]
    },
    {
     "data": {
      "image/png": "[encoded data removed]",
      "text/plain": [
       "<Figure size 432x288 with 1 Axes>"
      ]
     },
     "metadata": {
      "needs_background": "light"
     },
     "output_type": "display_data"
    },
    {
     "name": "stdout",
     "output_type": "stream",
     "text": [
      "Actual label: 1\n",
      "predicted: 0 with 0.0046 probabilities\n",
      "predicted: 1 with 0.9954 probabilities\n",
      "predicted: 2 with 0.0 probabilities\n"
     ]
    },
    {
     "data": {
      "image/png": "[encoded data removed]",
      "text/plain": [
       "<Figure size 432x288 with 1 Axes>"
      ]
     },
     "metadata": {
      "needs_background": "light"
     },
     "output_type": "display_data"
    },
    {
     "name": "stdout",
     "output_type": "stream",
     "text": [
      "Actual label: 1\n",
      "predicted: 0 with 0.0021 probabilities\n",
      "predicted: 1 with 0.9979 probabilities\n",
      "predicted: 2 with 1e-04 probabilities\n"
     ]
    },
    {
     "data": {
      "image/png": "[encoded data removed]",
      "text/plain": [
       "<Figure size 432x288 with 1 Axes>"
      ]
     },
     "metadata": {
      "needs_background": "light"
     },
     "output_type": "display_data"
    },
    {
     "name": "stdout",
     "output_type": "stream",
     "text": [
      "Actual label: 1\n",
      "predicted: 0 with 0.0813 probabilities\n",
      "predicted: 1 with 0.8267 probabilities\n",
      "predicted: 2 with 0.092 probabilities\n"
     ]
    },
    {
     "data": {
      "image/png": "[encoded data removed]",
      "text/plain": [
       "<Figure size 432x288 with 1 Axes>"
      ]
     },
     "metadata": {
      "needs_background": "light"
     },
     "output_type": "display_data"
    },
    {
     "name": "stdout",
     "output_type": "stream",
     "text": [
      "Actual label: 1\n",
      "predicted: 0 with 0.0004 probabilities\n",
      "predicted: 1 with 0.974 probabilities\n",
      "predicted: 2 with 0.0256 probabilities\n"
     ]
    },
    {
     "data": {
      "image/png": "[encoded data removed]",
      "text/plain": [
       "<Figure size 432x288 with 1 Axes>"
      ]
     },
     "metadata": {
      "needs_background": "light"
     },
     "output_type": "display_data"
    },
    {
     "name": "stdout",
     "output_type": "stream",
     "text": [
      "Actual label: 1\n",
      "predicted: 0 with 0.0 probabilities\n",
      "predicted: 1 with 1.0 probabilities\n",
      "predicted: 2 with 0.0 probabilities\n"
     ]
    },
    {
     "data": {
      "image/png": "[encoded data removed]",
      "text/plain": [
       "<Figure size 432x288 with 1 Axes>"
      ]
     },
     "metadata": {
      "needs_background": "light"
     },
     "output_type": "display_data"
    },
    {
     "name": "stdout",
     "output_type": "stream",
     "text": [
      "Actual label: 1\n",
      "predicted: 0 with 0.0 probabilities\n",
      "predicted: 1 with 0.9999 probabilities\n",
      "predicted: 2 with 1e-04 probabilities\n"
     ]
    },
    {
     "data": {
      "image/png": "[encoded data removed]",
      "text/plain": [
       "<Figure size 432x288 with 1 Axes>"
      ]
     },
     "metadata": {
      "needs_background": "light"
     },
     "output_type": "display_data"
    },
    {
     "name": "stdout",
     "output_type": "stream",
     "text": [
      "Actual label: 1\n",
      "predicted: 0 with 0.0 probabilities\n",
      "predicted: 1 with 0.9999 probabilities\n",
      "predicted: 2 with 1e-04 probabilities\n"
     ]
    },
    {
     "data": {
      "image/png": "[encoded data removed]",
      "text/plain": [
       "<Figure size 432x288 with 1 Axes>"
      ]
     },
     "metadata": {
      "needs_background": "light"
     },
     "output_type": "display_data"
    }
   ],
   "source": [
    "def imshow(inp, title=None):\n",
    "    \"\"\"Imshow for Tensor.\"\"\"\n",
    "    inp = inp.numpy().transpose((1, 2, 0))\n",
    "    mean = np.array([0.485, 0.456, 0.406])\n",
    "    std = np.array([0.229, 0.224, 0.225])\n",
    "    inp = std * inp + mean\n",
    "    inp = np.clip(inp, 0, 1)\n",
    "    plt.imshow(inp)\n",
    "    if title is not None:\n",
    "        plt.title(title)\n",
    "    plt.pause(0.001)  # pause a bit so that plots are updated\n",
    "\n",
    "\n",
    "def visualize_model(model, num_images=6):\n",
    "    was_training = model.training\n",
    "    model.eval()\n",
    "    images_so_far = 0\n",
    "    fig = plt.figure()\n",
    "\n",
    "    with torch.no_grad():\n",
    "        for i, (inputs, labels) in enumerate(dataloaders['test']):\n",
    "            inputs = inputs.to(device)\n",
    "            labels = labels.to(device)\n",
    "\n",
    "            outputs = model(inputs)\n",
    "\n",
    "            m = nn.Softmax(dim=1)\n",
    "            proOutput = m(outputs)\n",
    "            pros = proOutput.detach().cpu().numpy()\n",
    "            #print(pros)\n",
    "            #_, preds = torch.max(outputs, 1)\n",
    "            #pro = torch.max(proOutput, dim=1)[0]\n",
    "            #_, predsmin = torch.min(outputs, 1)\n",
    "            #promin = torch.min(proOutput, dim=1)[0]\n",
    "\n",
    "            for j in range(inputs.size()[0]):\n",
    "                images_so_far += 1\n",
    "                ax = plt.subplot(num_images//2, 2, images_so_far)\n",
    "                ax.axis('off')\n",
    "                #ax.set_title('predicted: %s with %s probabilities' %(class_names[preds[j]], round(pro[j].item(),4)))\n",
    "                print('Actual label: %s' %(class_names[labels[j].item()]))\n",
    "                for jj in range(3):\n",
    "                    print('predicted: %s with %s probabilities' %(class_names[jj], round(pros[j][jj],4)))\n",
    "                #print('predicted: %s with %s probabilities' %(class_names[1], round(pros[j][1],4)))\n",
    "                imshow(inputs.cpu().data[j])\n",
    "\n",
    "                if images_so_far == num_images:\n",
    "                    model.train(mode=was_training)\n",
    "                    return\n",
    "                \n",
    "        model.train(mode=was_training)\n",
    "\n",
    "#visualize_model(model_ft)\n",
    "\n",
    "visualize_model(model_ft, 36)"
   ]
  },
  {
   "cell_type": "code",
   "execution_count": null,
   "id": "forced-costs",
   "metadata": {},
   "outputs": [],
   "source": []
  }
 ],
 "metadata": {
  "kernelspec": {
   "display_name": "Python 3 (ipykernel)",
   "language": "python",
   "name": "python3"
  },
  "language_info": {
   "codemirror_mode": {
    "name": "ipython",
    "version": 3
   },
   "file_extension": ".py",
   "mimetype": "text/x-python",
   "name": "python",
   "nbconvert_exporter": "python",
   "pygments_lexer": "ipython3",
   "version": "3.8.16"
  }
 },
 "nbformat": 4,
 "nbformat_minor": 5
}
